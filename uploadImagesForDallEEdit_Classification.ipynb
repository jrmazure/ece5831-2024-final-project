{
 "cells": [
  {
   "cell_type": "markdown",
   "metadata": {},
   "source": [
    "# Logic for using OpenAI to Upload an Image with a Mask + Prompt and Receive Altered Image"
   ]
  },
  {
   "cell_type": "markdown",
   "metadata": {},
   "source": [
    "An API key for Dall-E is required to run and can be granted upon request (or your own API key can be used)"
   ]
  },
  {
   "cell_type": "code",
   "execution_count": null,
   "metadata": {},
   "outputs": [],
   "source": [
    "#import openai and pass API key\n",
    "from openai import OpenAI\n",
    "client = OpenAI(api_key = '')\n",
    "\n",
    "def create_dallE_generated_image(prompt):\n",
    "  \"\"\"\n",
    "    Generates an image given a prompt\n",
    "\n",
    "    Args: \n",
    "        None\n",
    "    Returns: \n",
    "        URL - website path containing Dall-E altered image\n",
    "    Example:\n",
    "        >>> create_dallE_generated_image(prompt)     \n",
    "    \"\"\"\n",
    "  response = client.images.generate(\n",
    "    model=\"dall-e-3\",\n",
    "    prompt=prompt,\n",
    "    size=\"1024x1024\",\n",
    "    quality=\"standard\",\n",
    "    n=1,\n",
    "  )\n",
    "  return response.data[0].url"
   ]
  },
  {
   "cell_type": "markdown",
   "metadata": {},
   "source": [
    "Download images from link and save to provided path"
   ]
  },
  {
   "cell_type": "code",
   "execution_count": 2,
   "metadata": {},
   "outputs": [],
   "source": [
    "# import library\n",
    "import requests\n",
    "\n",
    "def download_image(link, final_file_name):\n",
    "  \"\"\"\n",
    "    Downloads an image from DallE given a URL link and a file name to save to\n",
    "\n",
    "    Args: \n",
    "        link --> URL link from DallE\n",
    "        final_file_name --> path to save to\n",
    "    Returns: \n",
    "        Nothing - saves image\n",
    "    Example:\n",
    "        >>> download_image(edited_image_url, png_file_out)   \n",
    "    \"\"\"  \n",
    "  # File path to save the image\n",
    "  file_path = final_file_name\n",
    "  # Download the image\n",
    "  response = requests.get(link)\n",
    "  if response.status_code == 200:\n",
    "      with open(file_path, 'wb') as f:\n",
    "          f.write(response.content)\n",
    "      print(f\"Image successfully downloaded to {file_path}\")\n",
    "  else:\n",
    "      print(f\"Failed to download image. Status code: {response.status_code}\")"
   ]
  },
  {
   "cell_type": "markdown",
   "metadata": {},
   "source": [
    "# Generation of OpenAI Altered Image Using Origional Images, Masks, and `create_dallE_generated_image`"
   ]
  },
  {
   "cell_type": "code",
   "execution_count": 3,
   "metadata": {},
   "outputs": [
    {
     "name": "stdout",
     "output_type": "stream",
     "text": [
      "Image successfully downloaded to Images\\Classification\\DallE_Download\\29F84mHfJq.png\n",
      "Image successfully downloaded to Images\\Classification\\DallE_Download\\ziGM9dJDdX.png\n",
      "Image successfully downloaded to Images\\Classification\\DallE_Download\\hFflIsG7SN.png\n",
      "Image successfully downloaded to Images\\Classification\\DallE_Download\\Q6VSMgq1F7.png\n",
      "Image successfully downloaded to Images\\Classification\\DallE_Download\\qh3gCHRvyi.png\n",
      "Image successfully downloaded to Images\\Classification\\DallE_Download\\PJ2kPVk2US.png\n",
      "Image successfully downloaded to Images\\Classification\\DallE_Download\\WonWAkndJK.png\n",
      "Image successfully downloaded to Images\\Classification\\DallE_Download\\PGxm6u2o0O.png\n",
      "Image successfully downloaded to Images\\Classification\\DallE_Download\\uOzLff7rlu.png\n",
      "Image successfully downloaded to Images\\Classification\\DallE_Download\\2FKgpJMXSK.png\n"
     ]
    }
   ],
   "source": [
    "import os\n",
    "import glob\n",
    "import numpy as np\n",
    "import string\n",
    "import random\n",
    "\n",
    "folder_path_out = 'Images\\Classification\\DallE_Download'\n",
    "\n",
    "# Generate a random 10-character filename\n",
    "def generate_random_filename(length=10):\n",
    "    return ''.join(random.choices(string.ascii_letters + string.digits, k=length))\n",
    "\n",
    "# Define the flower type\n",
    "flowertype = \"daisy\"  # Change this to any flower type you want\n",
    "\n",
    "# Array of prompts with placeholders\n",
    "prompt_array = np.array([\n",
    "    f\"A photo-realistic {flowertype} with a natural background and some of the stem showing\", \n",
    "    f\"A photo-realistic single {flowertype} with a single color plain background\", \n",
    "    f\"A photo-realistic side image of a {flowertype} top with some of the stem showing\"\n",
    "])\n",
    "prompt = np.random.choice(prompt_array)\n",
    "\n",
    "# Loop 10 times\n",
    "for _ in range(10):\n",
    "    edited_image_url = create_dallE_generated_image(prompt)\n",
    "    \n",
    "    # Generate random filename\n",
    "    random_filename = generate_random_filename() + '.png'\n",
    "    output_path = os.path.join(folder_path_out, random_filename)\n",
    "    \n",
    "    # Download the image with the new filename\n",
    "    download_image(edited_image_url, output_path)\n"
   ]
  }
 ],
 "metadata": {
  "kernelspec": {
   "display_name": "ece5831_project",
   "language": "python",
   "name": "python3"
  },
  "language_info": {
   "codemirror_mode": {
    "name": "ipython",
    "version": 3
   },
   "file_extension": ".py",
   "mimetype": "text/x-python",
   "name": "python",
   "nbconvert_exporter": "python",
   "pygments_lexer": "ipython3",
   "version": "3.11.7"
  }
 },
 "nbformat": 4,
 "nbformat_minor": 2
}
