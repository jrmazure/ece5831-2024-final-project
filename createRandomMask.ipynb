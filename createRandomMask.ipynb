{
 "cells": [
  {
   "cell_type": "markdown",
   "metadata": {},
   "source": [
    "# Script used to loop through a folder and place masks randomly within an image"
   ]
  },
  {
   "cell_type": "code",
   "execution_count": 1,
   "metadata": {},
   "outputs": [],
   "source": [
    "# import needed libraries\n",
    "import numpy as np\n",
    "from PIL import Image"
   ]
  },
  {
   "cell_type": "code",
   "execution_count": 2,
   "metadata": {},
   "outputs": [],
   "source": [
    "def create_random_transparency_mask(image_path, output_path, mask_size_min=100, mask_size_max=150):\n",
    "    \"\"\"\n",
    "    Creates a PNG mask randomly within the image given an input image path, and the path to output an image to\n",
    "\n",
    "    Args: \n",
    "        image_path --> path of original file contiaining images to add mask to\n",
    "        output_path --> output path file to save mask images to\n",
    "        mask_size_min --> minimum mask size to use (based on DallE testing for perfromance of outputting requested object)\n",
    "        mask_size_max --> maximum mask size to use (based on DallE testing for perfromance of outputting requested object)\n",
    "    Returns: \n",
    "        Nothing - saves output image to directed output path\n",
    "    Example:\n",
    "        >>> create_random_transparency_mask(file_name, output_file_name)        \n",
    "    \"\"\"\n",
    "    # Open the image\n",
    "    image = Image.open(image_path).convert(\"RGBA\")  # Ensure it's in RGBA mode\n",
    "\n",
    "    # Get image dimensions\n",
    "    width, height = image.size\n",
    "\n",
    "    # generate a mask width and height between potentital sizes\n",
    "    mask_width, mask_height = np.random.randint(mask_size_min, mask_size_max), np.random.randint(mask_size_min, mask_size_max)\n",
    "\n",
    "    # Generate random top-left coordinates for the mask\n",
    "    x_start = np.random.randint(0, width - mask_width)\n",
    "    y_start = np.random.randint(0, height - mask_height)\n",
    "\n",
    "    # Create a new alpha channel based on the original image\n",
    "    alpha_channel = image.split()[-1]  # Get the original alpha channel\n",
    "\n",
    "    # Create a new alpha channel to hold modified values\n",
    "    new_alpha = alpha_channel.copy()\n",
    "\n",
    "    # Set the random region in the new alpha channel to zero (completely transparent)\n",
    "    for y in range(y_start, y_start + mask_height):\n",
    "        for x in range(x_start, x_start + mask_width):\n",
    "            new_alpha.putpixel((x, y), 0)  # Set pixel to fully transparent\n",
    "\n",
    "    # Replace the original alpha channel with the new alpha channel\n",
    "    image.putalpha(new_alpha)\n",
    "\n",
    "    # Save or display the resulting image\n",
    "    image.save(output_path)\n"
   ]
  },
  {
   "cell_type": "markdown",
   "metadata": {},
   "source": [
    "Use the method developed above on a given input image directory"
   ]
  },
  {
   "cell_type": "code",
   "execution_count": 3,
   "metadata": {},
   "outputs": [],
   "source": [
    "#import libraries for getting file names from input\n",
    "import os\n",
    "import glob\n",
    "\n",
    "# Specify the folder path for in and out\n",
    "folder_path_in = 'Images\\Detection\\DallE_Raw'\n",
    "folder_path_out = 'Images\\Detection\\DallE_Mask'\n",
    "\n",
    "# Get all .png files in the folder\n",
    "png_files_in = glob.glob(os.path.join(folder_path_in, '*.png'))\n",
    "png_file_out = [os.path.join(folder_path_out, os.path.basename(file)) for file in png_files_in]"
   ]
  },
  {
   "cell_type": "code",
   "execution_count": 4,
   "metadata": {},
   "outputs": [],
   "source": [
    "#loop through and save masked images to folder\n",
    "counter = 0\n",
    "for file_name in png_files_in:\n",
    "    create_random_transparency_mask(file_name, png_file_out[counter])\n",
    "    counter = counter + 1"
   ]
  }
 ],
 "metadata": {
  "kernelspec": {
   "display_name": "ece5831_project",
   "language": "python",
   "name": "python3"
  },
  "language_info": {
   "codemirror_mode": {
    "name": "ipython",
    "version": 3
   },
   "file_extension": ".py",
   "mimetype": "text/x-python",
   "name": "python",
   "nbconvert_exporter": "python",
   "pygments_lexer": "ipython3",
   "version": "3.11.7"
  }
 },
 "nbformat": 4,
 "nbformat_minor": 2
}
