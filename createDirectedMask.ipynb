{
 "cells": [
  {
   "cell_type": "markdown",
   "metadata": {},
   "source": [
    "# Script used to placed a mask within a specific region of the image"
   ]
  },
  {
   "cell_type": "code",
   "execution_count": 17,
   "metadata": {},
   "outputs": [],
   "source": [
    "# import needed libraries \n",
    "import numpy as np\n",
    "from PIL import Image"
   ]
  },
  {
   "cell_type": "markdown",
   "metadata": {},
   "source": [
    "Method developed for taking the input image path, output image path, then the x, y, width, and height of the mask"
   ]
  },
  {
   "cell_type": "code",
   "execution_count": 18,
   "metadata": {},
   "outputs": [],
   "source": [
    "def create_directed_transparency_mask(image_path, output_path, mask_position_x, mask_position_y, mask_width_x, mask_height_y):\n",
    "    \"\"\"\n",
    "    Creates a PNG mask image given the original image path, the output directory for a new image with mask, and the position given x,y, width, and height\n",
    "\n",
    "    Args: \n",
    "        image_path --> path of original file to add mask to\n",
    "        output_path --> output path of image to save mask image to\n",
    "        mask_position_x --> upper left corner x position of mask\n",
    "        mask_position_y --> upper left corner y position of mask\n",
    "        mask_width_x --> mask width in the x direction\n",
    "        mask_height_y --> mask ehight in the y direction\n",
    "    Returns: \n",
    "        Nothing - saves output image to directed path\n",
    "    Example:\n",
    "        >>> create_directed_transparency_mask('image_folder\\example.png', 'output_image_folder\\example_out.png', 100, 100, 200, 200)        \n",
    "    \"\"\"\n",
    "    # Open the image\n",
    "    image = Image.open(image_path).convert(\"RGBA\")  # Ensure it's in RGBA mode\n",
    "\n",
    "    # Get image dimensions\n",
    "    width, height = image.size\n",
    "\n",
    "    # Create a new alpha channel based on the original image\n",
    "    alpha_channel = image.split()[-1]  # Get the original alpha channel\n",
    "\n",
    "    # Create a new alpha channel to hold modified values\n",
    "    new_alpha = alpha_channel.copy()\n",
    "\n",
    "    # make sure we do not go outside the range of the image\n",
    "    if(mask_position_x < 0):\n",
    "        mask_position_x = 0\n",
    "\n",
    "    if(mask_position_y < 0):\n",
    "        mask_position_y = 0 \n",
    "\n",
    "    endx = mask_position_x + mask_width_x\n",
    "    if(endx > width):\n",
    "        endx = width\n",
    "\n",
    "    endy = mask_position_y + mask_height_y\n",
    "    if(endy > height):\n",
    "        endy = height\n",
    "\n",
    "    # Set the region in the new alpha channel to zero (completely transparent)\n",
    "    for y in range(mask_position_y, endy):\n",
    "        for x in range(mask_position_x, endx):\n",
    "            new_alpha.putpixel((x, y), 0)  # Set pixel to fully transparent\n",
    "\n",
    "    # Replace the original alpha channel with the new alpha channel\n",
    "    image.putalpha(new_alpha)\n",
    "\n",
    "    # Save or display the resulting image\n",
    "    image.save(output_path)\n"
   ]
  },
  {
   "cell_type": "markdown",
   "metadata": {},
   "source": [
    "Use the function to generate directed masks"
   ]
  },
  {
   "cell_type": "code",
   "execution_count": 19,
   "metadata": {},
   "outputs": [],
   "source": [
    "create_directed_transparency_mask('Images\\\\Detection\\\\DallE_Raw\\\\baa46c55-62bb-4311-b003-21c171c1f715-nosign.png', 'Images\\\\Detection\\\\DallE_Mask_Directed\\\\baa46c55-62bb-4311-b003-21c171c1f715-nosign.png', 100, 100, 200, 200)"
   ]
  }
 ],
 "metadata": {
  "kernelspec": {
   "display_name": "ece5831_project",
   "language": "python",
   "name": "python3"
  },
  "language_info": {
   "codemirror_mode": {
    "name": "ipython",
    "version": 3
   },
   "file_extension": ".py",
   "mimetype": "text/x-python",
   "name": "python",
   "nbconvert_exporter": "python",
   "pygments_lexer": "ipython3",
   "version": "3.11.7"
  }
 },
 "nbformat": 4,
 "nbformat_minor": 2
}
